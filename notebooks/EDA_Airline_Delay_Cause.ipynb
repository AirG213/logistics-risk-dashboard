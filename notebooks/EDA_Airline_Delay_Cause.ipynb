{
 "cells": [
  {
   "cell_type": "markdown",
   "id": "9bf45e9b",
   "metadata": {},
   "source": [
    "# Analyse des retards aériens"
   ]
  },
  {
   "cell_type": "markdown",
   "id": "283123b3",
   "metadata": {},
   "source": [
    "## Structure du dataset\n",
    "\n",
    "| Variable              | Description courte                                                                    | Type    | Exemples                     |\n",
    "| --------------------- | ------------------------------------------------------------------------------------- | ------- | ---------------------------- |\n",
    "| `year`                | Année de collecte des données                                                         | int     | 2023, 2024                   |\n",
    "| `month`               | Mois (représenté numériquement)                                                       | int     | 1, 6, 12                     |\n",
    "| `carrier`             | Code du transporteur aérien                                                           | object  | 'AA', 'DL', 'UA'             |\n",
    "| `carrier_name`        | Nom complet du transporteur aérien                                                    | object  | 'American Airlines', 'Delta' |\n",
    "| `airport`             | Code de l'aéroport (IATA)                                                             | object  | 'JFK', 'LAX', 'ATL'          |\n",
    "| `airport_name`        | Nom complet de l'aéroport                                                             | object  | 'John F. Kennedy Intl'       |\n",
    "| `arr_flights`         | Nombre de vols arrivant à l'aéroport                                                  | int     | 1500, 2300                   |\n",
    "| `arr_del15`           | Nombre de vols en retard de plus de 15 minutes                                        | int     | 320, 450                     |\n",
    "| `carrier_ct`          | Nombre de vols retardés à cause de la compagnie aérienne (ex : équipage indisponible) | float   | 45, 60                       |\n",
    "| `weather_ct`          | Nombre de vols retardés en raison de la météo                                         | float   | 10, 25                       |\n",
    "| `nas_ct`              | Nombre de vols retardés par le système national de l'aviation (ex : trafic aérien)    | float   | 100, 120                     |\n",
    "| `security_ct`         | Nombre de vols annulés pour des raisons de sécurité                                   | float   | 0, 2                         |\n",
    "| `late_aircraft_ct`    | Nombre de vols retardés à cause de l'arrivée tardive d'un avion précédent             | float   | 80, 95                       |\n",
    "| `arr_cancelled`       | Nombre de vols annulés                                                                | int     | 15, 20                       |\n",
    "| `arr_diverted`        | Nombre de vols déroutés vers un autre aéroport                                        | int     | 3, 5                         |\n",
    "| `arr_delay`           | Temps total (en minutes) de retard des vols                                           | float   | 1240.5, 2130.0               |\n",
    "| `carrier_delay`       | Durée totale (en minutes) de retard causé par la compagnie aérienne                   | float   | 300.0, 450.5                 |\n",
    "| `weather_delay`       | Durée totale (en minutes) de retard causé par la météo                                | float   | 120.0, 80.0                  |\n",
    "| `nas_delay`           | Durée totale (en minutes) de retard causé par le système de navigation aérienne       | float   | 500.0, 620.0                 |\n",
    "| `security_delay`      | Durée totale (en minutes) de retard causé par un problème de sécurité                 | float   | 0.0, 5.0                     |\n",
    "| `late_aircraft_delay` | Durée totale (en minutes) de retard causé par un vol précédent en retard              | float   | 320.0, 470.0                 |"
   ]
  },
  {
   "cell_type": "markdown",
   "id": "be3bde96",
   "metadata": {},
   "source": [
    "## Import des dépendances et du dataset"
   ]
  },
  {
   "cell_type": "code",
   "execution_count": null,
   "id": "addcb5ee",
   "metadata": {},
   "outputs": [],
   "source": [
    "import matplotlib.pyplot as plt\n",
    "import pandas as pd\n",
    "\n",
    "# Chemin du dataset\n",
    "csv_path = '../data/extracted/USA_Airline_Delay_Cause/Airline_Delay_Cause.csv'"
   ]
  },
  {
   "cell_type": "markdown",
   "id": "c2483bf7",
   "metadata": {},
   "source": [
    "## Vérification"
   ]
  },
  {
   "cell_type": "code",
   "execution_count": null,
   "id": "c17661aa",
   "metadata": {},
   "outputs": [],
   "source": [
    "# Chargement des donnnées\n",
    "df = pd.read_csv(csv_path)\n",
    "\n",
    "# Aperçu de la structure\n",
    "print(\"Shape (lignes, colonnes) :\", df.shape)\n",
    "print(\"\\nColonnes :\", df.columns.tolist())\n",
    "display(df.head(3))"
   ]
  },
  {
   "cell_type": "markdown",
   "id": "552269ea",
   "metadata": {},
   "source": [
    "## Nettoyage des données"
   ]
  },
  {
   "cell_type": "code",
   "execution_count": null,
   "id": "e482b22f",
   "metadata": {},
   "outputs": [],
   "source": [
    "## Typages des données\n",
    "\n",
    "# Affichage des types de données\n",
    "print(\"Types de données :\")\n",
    "print(df.dtypes)\n",
    "\n",
    "## Fusions des colonnes\n",
    "\n",
    "# Fusion des colonnes 'year' et 'month' en une colonne 'date'\n",
    "df['date'] = df['year'].astype(str) + '-' + df['month'].astype(str).str.zfill(2)\n",
    "\n",
    "# Vérification\n",
    "print(\"\\nDate après conversion :\")\n",
    "print(df[['date']].head(5))\n",
    "\n",
    "## Traitement des valeurs manquantes\n",
    "\n",
    "print(\"\\nNombre de valeurs manquantes par colonne :\")\n",
    "print(df.isnull().sum())\n",
    "\n",
    "# Suppression des lignes sans vols\n",
    "df = df.dropna(subset=['arr_flights'])\n",
    "\n",
    "# Remplissage de arr_del15 avec 0 si vide\n",
    "df['arr_del15'] = df['arr_del15'].fillna(0)\n",
    "\n",
    "# Vérification\n",
    "print(\"\\nValeurs manquantes après traitement :\")\n",
    "print(df.isnull().sum())"
   ]
  },
  {
   "cell_type": "markdown",
   "id": "e7e40819",
   "metadata": {},
   "source": [
    "## Statistiques"
   ]
  },
  {
   "cell_type": "code",
   "execution_count": null,
   "id": "af8a1892",
   "metadata": {},
   "outputs": [],
   "source": [
    "# Aperçu des stats globales\n",
    "print(\"\\nRésumé statistique rapide :\")\n",
    "display(df.describe().T.round(2))"
   ]
  },
  {
   "cell_type": "markdown",
   "id": "8d2882f9",
   "metadata": {},
   "source": [
    "### Calcul du score de risque et de résilience\n",
    "\n",
    "Ce bloc calcule plusieurs indicateurs pour chaque ligne du dataset :\n",
    "\n",
    "- `risk_score` : proportion de vols perturbés (retard >15 min, annulés ou déroutés) par rapport au nombre total de vols.\n",
    "- `mttr` (Mean Time To Recovery) : temps moyen de retard par incident, toutes causes confondues.\n",
    "- `mttr_norm` : version normalisée du MTTR pour faciliter la comparaison.\n",
    "- `delay_rate` : taux de vols en retard (>15 min).\n",
    "- `resilience_score` : indicateur de résilience, plus il est élevé, plus l'aéroport ou la compagnie gère efficacement les perturbations.\n",
    "\n",
    "Ces indicateurs permettent d’identifier les aéroports ou compagnies les plus exposés aux risques de retard et ceux qui récupèrent le plus rapidement."
   ]
  },
  {
   "cell_type": "code",
   "execution_count": null,
   "id": "96325a32",
   "metadata": {},
   "outputs": [],
   "source": [
    "# Calcul du score de risque\n",
    "df['risk_score'] = (df['arr_del15'] + df['arr_cancelled'] + df['arr_diverted']) / df['arr_flights']\n",
    "\n",
    "# MTTR global\n",
    "df['mttr'] = df[['carrier_delay', 'weather_delay', 'nas_delay', 'security_delay', 'late_aircraft_delay']].sum(axis=1) / \\\n",
    "             df[['carrier_ct', 'weather_ct', 'nas_ct', 'security_ct', 'late_aircraft_ct']].sum(axis=1)\n",
    "\n",
    "# Normalisation du MTTR\n",
    "df['mttr_norm'] = (df['mttr'] - df['mttr'].min()) / (df['mttr'].max() - df['mttr'].min())\n",
    "\n",
    "# Taux de retard\n",
    "df['delay_rate'] = df['arr_del15'] / df['arr_flights']\n",
    "\n",
    "# Score de résilience\n",
    "df['resilience_score'] = 1 - (df['mttr_norm'] + df['delay_rate'])\n",
    "\n",
    "# Vérification\n",
    "print(\"\\nAperçu des nouvelles colonnes :\")\n",
    "print(df[['risk_score', 'mttr', 'mttr_norm', 'delay_rate', 'resilience_score']].head(5))"
   ]
  },
  {
   "cell_type": "markdown",
   "id": "0c768988",
   "metadata": {},
   "source": [
    "### Vols retardé par cause"
   ]
  },
  {
   "cell_type": "code",
   "execution_count": null,
   "id": "60973f6e",
   "metadata": {},
   "outputs": [],
   "source": [
    "# Agrégation des causes de retard\n",
    "causes = df[['carrier_ct', 'weather_ct', 'nas_ct', 'security_ct', 'late_aircraft_ct']].sum()\n",
    "\n",
    "# Afficher le nombre de vols total\n",
    "print(\"\\nNombre total de vols : {:,}\".format(df['arr_flights'].sum()).replace(\",\", \" \"))\n",
    "print(\"Nombre de vols retardés : {:,}\".format(df['arr_del15'].sum()).replace(\",\", \" \"))\n",
    "\n",
    "# Graphique en barres\n",
    "causes.plot(kind='bar', figsize=(8,5), title='Nombre de vols retardés par cause', ylabel='Nombre de vols')\n",
    "plt.grid(True)\n",
    "plt.tight_layout()"
   ]
  },
  {
   "cell_type": "markdown",
   "id": "c5302c9a",
   "metadata": {},
   "source": [
    "### Ratio de retard par années"
   ]
  },
  {
   "cell_type": "code",
   "execution_count": null,
   "id": "2f37b3f1",
   "metadata": {
    "vscode": {
     "languageId": "ruby"
    }
   },
   "outputs": [],
   "source": [
    "# Grouper par année et calculer le ratio de retard\n",
    "delay_ratio_per_year = (df.groupby('year')['arr_del15'].sum() / df.groupby('year')['arr_flights'].sum())\n",
    "\n",
    "# Affichage\n",
    "delay_ratio_per_year.plot(kind='bar', title='Ratio de retard (>15 min) par année', ylabel='Ratio de retard')\n",
    "plt.grid(axis='y')\n",
    "plt.tight_layout()\n",
    "plt.show()"
   ]
  },
  {
   "cell_type": "markdown",
   "id": "5ba7769c",
   "metadata": {},
   "source": [
    "### Durée totale des retards par cause"
   ]
  },
  {
   "cell_type": "code",
   "execution_count": null,
   "id": "becf900d",
   "metadata": {
    "vscode": {
     "languageId": "ruby"
    }
   },
   "outputs": [],
   "source": [
    "# Agrégation des durées de retard\n",
    "delays = df[['carrier_delay', 'weather_delay', 'nas_delay', 'security_delay', 'late_aircraft_delay']].sum()\n",
    "\n",
    "# Graphique\n",
    "delays.plot(kind='bar', color='orange', figsize=(8,5), title='Durée totale des retards par cause', ylabel='Minutes de retard')\n",
    "plt.grid(True)\n",
    "plt.tight_layout()"
   ]
  },
  {
   "cell_type": "markdown",
   "id": "e3015f42",
   "metadata": {},
   "source": [
    "## Export du dataset préparé pour le dashboard"
   ]
  },
  {
   "cell_type": "code",
   "execution_count": null,
   "id": "eb29dddb",
   "metadata": {
    "vscode": {
     "languageId": "ruby"
    }
   },
   "outputs": [],
   "source": [
    "df.to_csv(\"../data/cleaned/airline_delay_cause_cleaned.csv\", index=False)\n",
    "print(\"Fichier enregistré : /data/cleaned/airline_delay_cause_cleaned.csv\")"
   ]
  }
 ],
 "metadata": {
  "kernelspec": {
   "display_name": ".venv",
   "language": "python",
   "name": "python3"
  },
  "language_info": {
   "codemirror_mode": {
    "name": "ipython",
    "version": 3
   },
   "file_extension": ".py",
   "mimetype": "text/x-python",
   "name": "python",
   "nbconvert_exporter": "python",
   "pygments_lexer": "ipython3",
   "version": "3.12.6"
  }
 },
 "nbformat": 4,
 "nbformat_minor": 5
}
