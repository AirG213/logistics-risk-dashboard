{
 "cells": [
  {
   "cell_type": "markdown",
   "id": "ea6c05f1",
   "metadata": {},
   "source": [
    "# Contexte :\n",
    "# Analyse exploratoire du dataset supply chain pour évaluer le risque et la résilience logistique."
   ]
  },
  {
   "cell_type": "markdown",
   "id": "26bf11ad",
   "metadata": {},
   "source": [
    "| Variable                          | Description courte                                           | Type    | Exemples                  |\n",
    "| --------------------------------- | ------------------------------------------------------------ | ------- | ------------------------- |\n",
    "| `warehouse_inventory_level`       | Niveau de stock en entrepôt pour le produit concerné         | float64 | 985.72, 396.70            |\n",
    "| `handling_equipment_availability` | Disponibilité des équipements de manutention                 | float64 | 0.48, 0.62                |\n",
    "| `order_fulfillment_status`        | Niveau d'exécution de la commande                            | float64 | 0.76, 0.19                |\n",
    "| `weather_condition_severity`      | Sévérité des conditions météo pour l’itinéraire              | float64 | 0.36, 0.23                |\n",
    "| `shipping_costs`                  | Coût logistique associé à la livraison                       | float64 | 456.50, 640.40            |\n",
    "| `supplier_reliability_score`      | Fiabilité du fournisseur (0 à 1)                             | float64 | 0.98, 0.46                |\n",
    "| `lead_time_days`                  | Délai planifié (jours)                                       | float64 | 2.12, 12.60               |\n",
    "| `historical_demand`               | Demande historique pour ce produit                           | float64 | 100.77, 5313.73           |\n",
    "| `cargo_condition_status`          | État général du cargo                                        | float64 | 0.77, 0.09                |\n",
    "| `route_risk_level`                | Niveau de risque de l’itinéraire (0–10)                      | float64 | 1.18, 9.61                |\n",
    "| `customs_clearance_time`          | Temps moyen de dédouanement                                  | float64 | 0.50, 0.96                |\n",
    "| `disruption_likelihood_score`     | Probabilité de perturbation (0–1)                            | float64 | 0.50, 0.98                |\n",
    "| `delay_probability`               | Probabilité de retard (0–1)                                  | float64 | 0.88, 0.54                |\n",
    "| `delivery_time_deviation`         | Écart réel de livraison (positif = retard, négatif = avance) | float64 | 9.11, 8.17                |\n",
    "| `product_id`                      | Identifiant unique du produit                                | object  | 'P0353', 'P0857'          |\n",
    "| `supplier_id`                     | Identifiant unique du fournisseur                            | object  | 'P0353\\_S1', 'P0857\\_S2'  |\n",
    "| `supplier_country`                | Pays d’origine du fournisseur                                | object  | Greece, South Korea, Iran |\n",
    "| `Risk_Score`                      | Indicateur agrégé de risque logistique \\[0–1]                | float64 | 0.60, 0.82                |\n",
    "| `Resilience_Index`                | Indice de résilience globale \\[0–1]                          | float64 | 0.38, 0.08                |"
   ]
  },
  {
   "cell_type": "code",
   "execution_count": null,
   "id": "d8968e70",
   "metadata": {},
   "outputs": [],
   "source": [
    "import pandas as pd\n",
    "import numpy as np\n",
    "import matplotlib.pyplot as plt\n",
    "import seaborn as sns\n",
    "from pandas.api.types import CategoricalDtype\n",
    "import plotly.express as px\n",
    "\n",
    "# Charger le dataset\n",
    "file_path = \"../data/extracted/Supply_chain_dataset/dynamic_supply_chain_logistics_dataset_with_country.csv\"\n",
    "df = pd.read_csv(file_path)\n",
    "\n",
    "# Afficher forme, colonnes, premiers exemples\n",
    "print(f\"Shape: {df.shape}\")\n",
    "print(f\"Columns: {df.columns.tolist()}\")\n",
    "df.head()"
   ]
  },
  {
   "cell_type": "code",
   "execution_count": null,
   "id": "698fffed",
   "metadata": {},
   "outputs": [],
   "source": [
    "# Vérifier types + valeurs manquantes + premières stats pour les variables clés\n",
    "\n",
    "# 1) Types et infos globales\n",
    "df.info()\n",
    "\n",
    "# 2) Valeurs manquantes\n",
    "print(\"\\nValeurs manquantes :\")\n",
    "print(df.isnull().sum())\n",
    "\n",
    "# 3) Stats descriptives sur les variables liées au risque/délai/résilience\n",
    "cols_risk = [\n",
    "    'route_risk_level', 'disruption_likelihood_score', 'delay_probability',\n",
    "    'risk_classification', 'delivery_time_deviation',\n",
    "    'lead_time_days', 'supplier_reliability_score'\n",
    "]\n",
    "\n",
    "df[cols_risk].describe(include='all')\n"
   ]
  },
  {
   "cell_type": "code",
   "execution_count": null,
   "id": "282e8973",
   "metadata": {},
   "outputs": [],
   "source": [
    "# 1) Vérifier les modalités uniques de risk_classification\n",
    "print(\"Valeurs uniques de risk_classification :\")\n",
    "print(df['risk_classification'].unique())\n",
    "\n",
    "# 2) Vérifier valeurs négatives pour delivery_time_deviation\n",
    "print(\"\\nValeurs négatives de delivery_time_deviation :\")\n",
    "print(df[df['delivery_time_deviation'] < 0]['delivery_time_deviation'].describe())\n",
    "\n",
    "# 3) Vérifier les doublons\n",
    "print(\"\\nNombre de doublons sur (product_id, supplier_id) :\")\n",
    "print(df.duplicated(subset=['product_id', 'supplier_id']).sum())\n"
   ]
  },
  {
   "cell_type": "code",
   "execution_count": null,
   "id": "0979f337",
   "metadata": {},
   "outputs": [],
   "source": [
    "# 1) Vérifier si les doublons sont strictement identiques sur TOUTES les colonnes\n",
    "print(\"Nombre de doublons stricts (toutes colonnes) :\")\n",
    "print(df.duplicated().sum())\n",
    "\n",
    "# 2) Exemple de doublons non stricts si existants\n",
    "if df.duplicated().sum() != df.duplicated(subset=['product_id', 'supplier_id']).sum():\n",
    "    print(\"\\nExemple de doublons non stricts :\")\n",
    "    dup_subset = df[df.duplicated(subset=['product_id', 'supplier_id'], keep=False)]\n",
    "    display(dup_subset.head(10))\n"
   ]
  },
  {
   "cell_type": "code",
   "execution_count": null,
   "id": "8f82c499",
   "metadata": {},
   "outputs": [],
   "source": [
    "# 1) Convertir risk_classification en catégorie ordonnée\n",
    "risk_order = CategoricalDtype(categories=[\"Low Risk\", \"Moderate Risk\", \"High Risk\"], ordered=True)\n",
    "df['risk_classification'] = df['risk_classification'].astype(risk_order)\n",
    "\n",
    "# 2) Vérifier le typage final\n",
    "print(df['risk_classification'].dtype)\n",
    "df['risk_classification'].value_counts()\n"
   ]
  },
  {
   "cell_type": "code",
   "execution_count": null,
   "id": "e1e6dcd7",
   "metadata": {},
   "outputs": [],
   "source": [
    "# Vérifier les min/max pour les indicateurs de risque, délai, résilience\n",
    "\n",
    "risk_cols = [\n",
    "    'route_risk_level',\n",
    "    'disruption_likelihood_score',\n",
    "    'delay_probability',\n",
    "    'delivery_time_deviation',\n",
    "    'lead_time_days',\n",
    "    'supplier_reliability_score'\n",
    "]\n",
    "\n",
    "print(df[risk_cols].describe())\n",
    "\n",
    "# Vérifier visuellement la distribution de chaque variable (boxplot)\n",
    "plt.figure(figsize=(15, 8))\n",
    "for i, col in enumerate(risk_cols, 1):\n",
    "    plt.subplot(2, 3, i)\n",
    "    sns.boxplot(y=df[col])\n",
    "    plt.title(col)\n",
    "plt.tight_layout()\n",
    "plt.show()\n"
   ]
  },
  {
   "cell_type": "code",
   "execution_count": null,
   "id": "b885d047",
   "metadata": {},
   "outputs": [],
   "source": [
    "# Vérifier la queue basse de disruption_likelihood_score\n",
    "low_disruption = df[df['disruption_likelihood_score'] < 0.1]\n",
    "print(f\"Lignes avec disruption_likelihood_score < 0.1 : {len(low_disruption)}\")\n",
    "low_disruption.describe()"
   ]
  },
  {
   "cell_type": "code",
   "execution_count": null,
   "id": "eb7cb1b5",
   "metadata": {},
   "outputs": [],
   "source": [
    "# Forcer les bornes techniques pour éviter des fuites de valeurs aberrantes dans le pipeline\n",
    "\n",
    "# Définir les bornes théoriques\n",
    "bounds = {\n",
    "    'route_risk_level': (0, 10),\n",
    "    'disruption_likelihood_score': (0, 1),\n",
    "    'delay_probability': (0, 1),\n",
    "    'supplier_reliability_score': (0, 1),\n",
    "    'lead_time_days': (0, None),  # pas de max fixé\n",
    "    'delivery_time_deviation': (None, None)  # pas de bornage ici, signe important\n",
    "}\n",
    "\n",
    "# Appliquer les bornes\n",
    "for col, (min_val, max_val) in bounds.items():\n",
    "    if min_val is not None:\n",
    "        df[col] = df[col].clip(lower=min_val)\n",
    "    if max_val is not None:\n",
    "        df[col] = df[col].clip(upper=max_val)\n",
    "\n",
    "print(\"Bornage technique appliqué sur les variables clés.\")"
   ]
  },
  {
   "cell_type": "code",
   "execution_count": null,
   "id": "3a8379c7",
   "metadata": {},
   "outputs": [],
   "source": [
    "# Normaliser route_risk_level et delivery_time_deviation\n",
    "df['route_risk_level_norm'] = df['route_risk_level'] / 10\n",
    "df['delivery_time_deviation_norm'] = df['delivery_time_deviation'] / 10\n",
    "\n",
    "# Créer Risk_Score (pondérations égales pour commencer)\n",
    "df['Risk_Score'] = (\n",
    "    0.25 * df['route_risk_level_norm'] +\n",
    "    0.25 * df['disruption_likelihood_score'] +\n",
    "    0.25 * df['delay_probability'] +\n",
    "    0.25 * df['delivery_time_deviation_norm']\n",
    ")\n",
    "\n",
    "# Créer Resilience_Index\n",
    "df['Resilience_Index'] = df['supplier_reliability_score'] * (1 - df['Risk_Score'])\n",
    "\n",
    "# Vérifier\n",
    "print(df[['Risk_Score', 'Resilience_Index']].describe())\n"
   ]
  },
  {
   "cell_type": "code",
   "execution_count": null,
   "id": "9320f4f3",
   "metadata": {},
   "outputs": [],
   "source": [
    "# Histogramme Risk_Score\n",
    "plt.figure(figsize=(12, 5))\n",
    "sns.histplot(df['Risk_Score'], bins=50, kde=True, color='red')\n",
    "plt.title(\"Distribution du Risk_Score\")\n",
    "plt.xlabel(\"Risk_Score\")\n",
    "plt.show()\n",
    "\n",
    "# Histogramme Resilience_Index\n",
    "plt.figure(figsize=(12, 5))\n",
    "sns.histplot(df['Resilience_Index'], bins=50, kde=True, color='green')\n",
    "plt.title(\"Distribution du Resilience_Index\")\n",
    "plt.xlabel(\"Resilience_Index\")\n",
    "plt.show()"
   ]
  },
  {
   "cell_type": "code",
   "execution_count": null,
   "id": "d6b1dabb",
   "metadata": {},
   "outputs": [],
   "source": [
    "# DataFrame final pour export ou dashboard\n",
    "cols_final = ['product_id', 'supplier_id', 'supplier_country', 'Risk_Score', 'Resilience_Index']\n",
    "df_final = df[cols_final].copy()\n",
    "\n",
    "print(df_final.head())\n",
    "print(df_final.describe())"
   ]
  },
  {
   "cell_type": "code",
   "execution_count": null,
   "id": "b556e360",
   "metadata": {},
   "outputs": [],
   "source": [
    "# Sélectionner les colonnes essentielles pour le livrable final\n",
    "cols_final = [\n",
    "    'product_id', 'supplier_id', 'supplier_country',\n",
    "    'route_risk_level',\n",
    "    'disruption_likelihood_score',\n",
    "    'delay_probability',\n",
    "    'delivery_time_deviation',\n",
    "    'lead_time_days',\n",
    "    'supplier_reliability_score',\n",
    "    'Risk_Score',\n",
    "    'Resilience_Index'\n",
    "]\n",
    "\n",
    "df_final = df[cols_final].copy()\n",
    "\n",
    "print(df_final.head())\n",
    "print(df_final.describe())"
   ]
  },
  {
   "cell_type": "code",
   "execution_count": null,
   "id": "824d47d9",
   "metadata": {},
   "outputs": [],
   "source": [
    "# 1) Prendre la MOYENNE du Risk_Score par pays\n",
    "df_country_risk = df_final.groupby(\"supplier_country\", as_index=False)[\"Risk_Score\"].mean()\n",
    "\n",
    "# 2) Vérifier la plage réelle\n",
    "min_risk = df_country_risk[\"Risk_Score\"].min()\n",
    "max_risk = df_country_risk[\"Risk_Score\"].max()\n",
    "\n",
    "print(f\"Min Risk_Score (mean per country): {min_risk:.3f}\")\n",
    "print(f\"Max Risk_Score (mean per country): {max_risk:.3f}\")\n",
    "\n",
    "# 3) Carte des pays les plus sûrs (faible moyenne de risque)\n",
    "fig_low_risk = px.choropleth(\n",
    "    df_country_risk,\n",
    "    locations=\"supplier_country\",\n",
    "    locationmode=\"country names\",\n",
    "    color=\"Risk_Score\",\n",
    "    color_continuous_scale=\"Greens_r\",\n",
    "    range_color=(min_risk, max_risk),\n",
    "    title=\"Countries with Lowest Average Risk Score\"\n",
    ")\n",
    "\n",
    "fig_low_risk.update_geos(showcountries=True, showcoastlines=True, showland=True, fitbounds=\"locations\")\n",
    "fig_low_risk.update_layout(coloraxis_colorbar=dict(title=\"Risk Score (Mean)\"))\n",
    "fig_low_risk.show()\n",
    "\n",
    "# 4) Carte des pays les plus risqués (moyenne de risque élevée)\n",
    "fig_high_risk = px.choropleth(\n",
    "    df_country_risk,\n",
    "    locations=\"supplier_country\",\n",
    "    locationmode=\"country names\",\n",
    "    color=\"Risk_Score\",\n",
    "    color_continuous_scale=\"Reds\",\n",
    "    range_color=(min_risk, max_risk),\n",
    "    title=\"Countries with Highest Average Risk Score\"\n",
    ")\n",
    "\n",
    "fig_high_risk.update_geos(showcountries=True, showcoastlines=True, showland=True, fitbounds=\"locations\")\n",
    "fig_high_risk.update_layout(coloraxis_colorbar=dict(title=\"Risk Score (Mean)\"))\n",
    "fig_high_risk.show()"
   ]
  },
  {
   "cell_type": "code",
   "execution_count": null,
   "id": "37750e43",
   "metadata": {},
   "outputs": [],
   "source": [
    "# Enregistrer la version nettoyée \n",
    "df_final.to_csv(\"../data/cleaned/supply_chain_cleaned.csv\", index=False)\n",
    "print(\"Fichier enregistré : /data/cleaned/supply_chain_cleaned.csv\")"
   ]
  }
 ],
 "metadata": {
  "kernelspec": {
   "display_name": ".venv",
   "language": "python",
   "name": "python3"
  },
  "language_info": {
   "codemirror_mode": {
    "name": "ipython",
    "version": 3
   },
   "file_extension": ".py",
   "mimetype": "text/x-python",
   "name": "python",
   "nbconvert_exporter": "python",
   "pygments_lexer": "ipython3",
   "version": "3.12.6"
  }
 },
 "nbformat": 4,
 "nbformat_minor": 5
}
