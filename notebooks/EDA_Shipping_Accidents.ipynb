{
 "cells": [
  {
   "cell_type": "code",
   "execution_count": 1,
   "id": "d32d4e9d",
   "metadata": {},
   "outputs": [
    {
     "name": "stdout",
     "output_type": "stream",
     "text": [
      "Colonnes : ['Unique_ID', 'Country', 'Year', 'Date', 'Time', 'Location', 'Acc_Type', 'Colli_Type', 'Acc_Detail', 'CauseDetai', 'Assistance', 'Offence', 'Damage', 'HumanEleme', 'IceCondit', 'CrewIceTra', 'Pollution', 'Pollu_m3', 'Pollu_t', 'Pollu_Type', 'RespAction', 'Cargo_Type', 'Ship1_Name', 'Sh1_Categ', 'Sh1_Type', 'Sh1_Hull', 'Sh1Size_gt', 'Sh1Sizedwt', 'Sh1Draug_m', 'Cause_Sh1', 'Pilot_Sh1', 'Ship2_Name', 'Sh2_Categ', 'Sh2_Type', 'Sh2_Hull', 'Sh2Size_gt', 'Sh2Sizedwt', 'Sh2Draug_m', 'Cause_Sh2', 'Pilot_Sh2', 'Add_Info', 'Latitude', 'Longitude', 'source']\n",
      "      Unique_ID  Country    Year       Date         Time Location   Acc_Type  \\\n",
      "0     1989_0001     None  1989.0 1989-01-07         None     None  Collision   \n",
      "1     1989_0002     None  1989.0 1989-04-01         None     None  Grounding   \n",
      "2     1989_0003     None  1989.0 1989-05-01         None     None  Grounding   \n",
      "3     1989_0004     None  1989.0 1989-05-18         None     None  Collision   \n",
      "4     1989_0005     None  1989.0 1989-05-29         None     None  Pollution   \n",
      "...         ...      ...     ...        ...          ...      ...        ...   \n",
      "4537  2023_0622  Germany  2023.0 2023-12-24  11:40:00 AM      Sea      Other   \n",
      "4538  2023_0624   Sweden  2023.0 2023-12-27   7:00:00 AM      Sea      Other   \n",
      "4539  2023_0626   Sweden  2023.0 2023-12-28  12:04:00 PM      Sea  Grounding   \n",
      "4540  2023_0627   Cyprus  2023.0 2023-12-28   1:09:00 AM     Port    Contact   \n",
      "4541  2023_0630  Germany  2023.0 2023-12-31   7:00:00 AM     Port      Other   \n",
      "\n",
      "       Colli_Type  Acc_Detail CauseDetai  ... Sh2_Hull Sh2Size_gt Sh2Sizedwt  \\\n",
      "0            n.i.        None       None  ...     None       None       None   \n",
      "1            None        None       None  ...     None       None       None   \n",
      "2            None        None       None  ...     None       None       None   \n",
      "3            n.i.        None       None  ...     None       None       None   \n",
      "4            None  refuelling       None  ...     None       None       None   \n",
      "...           ...         ...        ...  ...      ...        ...        ...   \n",
      "4537         None        None       None  ...     None       None       None   \n",
      "4538         None        None       None  ...     None       None       None   \n",
      "4539         None        None       None  ...     None       None       None   \n",
      "4540  with object        None       None  ...     None       None       None   \n",
      "4541         None        None       None  ...     None       None       None   \n",
      "\n",
      "     Sh2Draug_m Cause_Sh2 Pilot_Sh2 Add_Info   Latitude  Longitude  \\\n",
      "0          None      None      None     None  53.900000  14.200000   \n",
      "1          None      None      None     None  58.800000  23.400000   \n",
      "2          None      None      None     None  58.600000  23.400000   \n",
      "3          None      None      None     None  54.500000  15.067000   \n",
      "4          None      None      None     None  57.683000  11.917000   \n",
      "...         ...       ...       ...      ...        ...        ...   \n",
      "4537       None      None      None     None  54.535533  10.450917   \n",
      "4538       None      None      None     None  57.555417  11.125400   \n",
      "4539       None      None      None     None  57.593900  11.774300   \n",
      "4540       None      None      None     None  53.899667  14.256450   \n",
      "4541       None      None      None     None  54.361817  10.061033   \n",
      "\n",
      "                source  \n",
      "0     HELCOM reporting  \n",
      "1     HELCOM reporting  \n",
      "2     HELCOM reporting  \n",
      "3     HELCOM reporting  \n",
      "4     HELCOM reporting  \n",
      "...                ...  \n",
      "4537              EMSA  \n",
      "4538              EMSA  \n",
      "4539              EMSA  \n",
      "4540              EMSA  \n",
      "4541              EMSA  \n",
      "\n",
      "[4542 rows x 44 columns]\n"
     ]
    }
   ],
   "source": [
    "import geopandas as gpd\n",
    "\n",
    "# Chemin vers le .shp (prend le nom du shapefile dans ton dossier)\n",
    "shp_path = \"../data/extracted/Shipping_Accidents/Shipping_Accidents.shp\"  # adapte le chemin si besoin\n",
    "\n",
    "# Lecture du shapefile avec geopandas\n",
    "gdf = gpd.read_file(shp_path)\n",
    "\n",
    "# Si tu veux bosser comme un DataFrame normal\n",
    "df = gdf.drop(columns='geometry')  # ou gdf.to_pandas() si tu veux perdre la colonne géométrique\n",
    "\n",
    "print(\"Colonnes :\", df.columns.tolist())\n",
    "print(df)"
   ]
  },
  {
   "cell_type": "code",
   "execution_count": 2,
   "id": "07f511a6",
   "metadata": {},
   "outputs": [
    {
     "name": "stdout",
     "output_type": "stream",
     "text": [
      "Fichier enregistré : /data/cleaned/shipping_accidents_cleaned.csv\n"
     ]
    }
   ],
   "source": [
    "# Enregistrer la version nettoyée \n",
    "df.to_csv(\"../data/cleaned/shipping_accidents_cleaned.csv\", index=False)\n",
    "print(\"Fichier enregistré : /data/cleaned/shipping_accidents_cleaned.csv\")"
   ]
  }
 ],
 "metadata": {
  "kernelspec": {
   "display_name": ".venv",
   "language": "python",
   "name": "python3"
  },
  "language_info": {
   "codemirror_mode": {
    "name": "ipython",
    "version": 3
   },
   "file_extension": ".py",
   "mimetype": "text/x-python",
   "name": "python",
   "nbconvert_exporter": "python",
   "pygments_lexer": "ipython3",
   "version": "3.12.6"
  }
 },
 "nbformat": 4,
 "nbformat_minor": 5
}
