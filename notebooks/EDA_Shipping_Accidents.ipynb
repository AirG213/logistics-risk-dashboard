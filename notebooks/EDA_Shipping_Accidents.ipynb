{
 "cells": [
  {
   "cell_type": "markdown",
   "id": "b1d3c007",
   "metadata": {},
   "source": [
    "# Accidents cargo"
   ]
  },
  {
   "cell_type": "markdown",
   "id": "9382550c",
   "metadata": {},
   "source": [
    "## Import des dépendances et du dataset"
   ]
  },
  {
   "cell_type": "code",
   "execution_count": null,
   "id": "9da0eeda",
   "metadata": {},
   "outputs": [],
   "source": [
    "import pandas as pd\n",
    "import geopandas as gpd\n",
    "\n",
    "# Chemin vers le .shp\n",
    "shp_path = \"../data/extracted/Shipping_Accidents/Shipping_Accidents.shp\"\n",
    "\n",
    "# Lecture du shapefile avec geopandas\n",
    "df = gpd.read_file(shp_path)"
   ]
  },
  {
   "cell_type": "markdown",
   "id": "bb11b3e1",
   "metadata": {},
   "source": [
    "## Préparation des données"
   ]
  },
  {
   "cell_type": "markdown",
   "id": "d545183a",
   "metadata": {},
   "source": [
    "### Nettoyage des données\n",
    "\n",
    "1. Les données allant des années 1989 à 2023, nous allons les filtrer et ne garder qu'une intervalle de 20 ans, soit de 2003 à 2023. Cela nous permettra de ne pas avoir des données trop anciennes qui pourraient fausser notre analyse.\n",
    "\n",
    "2. Le nombre de types d'accidents étant important voir redondant, nous allons les regrouper en 5 catégories :\n",
    "   - Technical or Equipment Failure\n",
    "   - Navigation or Maneuvering Incident\n",
    "   - Fire or Explosion\n",
    "   - Life-saving Equipment Incident\n",
    "   - Other"
   ]
  },
  {
   "cell_type": "code",
   "execution_count": null,
   "id": "d32d4e9d",
   "metadata": {},
   "outputs": [],
   "source": [
    "## Définition de l'intervalle de temps\n",
    "start_year = 2003\n",
    "end_year = 2023\n",
    "\n",
    "df = df[(df['Year'] >= start_year) & (df['Year'] <= end_year)]\n",
    "\n",
    "\n",
    "## Suppression des coordonnées incohérentes\n",
    "# Suppression des lignes où les coordonnées sont nulles ou égales à 0\n",
    "df = df[~((df['Longitude'].isnull()) | (df['Latitude'].isnull()) | (df['Longitude'] == 0) | (df['Latitude'] == 0))]\n",
    "\n",
    "\n",
    "## Regroupement des types d'accidents\n",
    "\n",
    "# Technical or Equipment Failure\n",
    "df['Acc_Type'] = df['Acc_Type'].replace('Damage to ship or equipment', 'Technical or Equipment Failure')\n",
    "df['Acc_Type'] = df['Acc_Type'].replace('Damages to ships or equipment', 'Technical or Equipment Failure')\n",
    "df['Acc_Type'] = df['Acc_Type'].replace('Dammage to ships or equipment', 'Technical or Equipment Failure')\n",
    "df['Acc_Type'] = df['Acc_Type'].replace('Door fault . fault in doorways', 'Technical or Equipment Failure')\n",
    "df['Acc_Type'] = df['Acc_Type'].replace('hull failure', 'Technical or Equipment Failure')\n",
    "df['Acc_Type'] = df['Acc_Type'].replace('Hull failure/failure of watertight doors/ports etc.', 'Technical or Equipment Failure')\n",
    "df['Acc_Type'] = df['Acc_Type'].replace('machinery damage', 'Technical or Equipment Failure')\n",
    "df['Acc_Type'] = df['Acc_Type'].replace('Machinery damage', 'Technical or Equipment Failure')\n",
    "df['Acc_Type'] = df['Acc_Type'].replace('Machinery dammage', 'Technical or Equipment Failure')\n",
    "df['Acc_Type'] = df['Acc_Type'].replace('macihnery damage', 'Technical or Equipment Failure')\n",
    "df['Acc_Type'] = df['Acc_Type'].replace('Technical failure', 'Technical or Equipment Failure')\n",
    "\n",
    "# Navigation or Maneuvering Incident\n",
    "df['Acc_Type'] = df['Acc_Type'].replace('Capsizing.listing', 'Navigation or Maneuvering Incident')\n",
    "df['Acc_Type'] = df['Acc_Type'].replace('Capsizing/listing', 'Navigation or Maneuvering Incident')\n",
    "df['Acc_Type'] = df['Acc_Type'].replace('collision', 'Navigation or Maneuvering Incident')\n",
    "df['Acc_Type'] = df['Acc_Type'].replace('Collision', 'Navigation or Maneuvering Incident')\n",
    "df['Acc_Type'] = df['Acc_Type'].replace('contact', 'Navigation or Maneuvering Incident')\n",
    "df['Acc_Type'] = df['Acc_Type'].replace('Contact', 'Navigation or Maneuvering Incident')\n",
    "df['Acc_Type'] = df['Acc_Type'].replace('Flooding/Foundering', 'Navigation or Maneuvering Incident')\n",
    "df['Acc_Type'] = df['Acc_Type'].replace('grounding', 'Navigation or Maneuvering Incident')\n",
    "df['Acc_Type'] = df['Acc_Type'].replace('Grounding', 'Navigation or Maneuvering Incident')\n",
    "df['Acc_Type'] = df['Acc_Type'].replace('Grounding/stranding', 'Navigation or Maneuvering Incident')\n",
    "df['Acc_Type'] = df['Acc_Type'].replace('Loss of control', 'Navigation or Maneuvering Incident')\n",
    "df['Acc_Type'] = df['Acc_Type'].replace('stranding.grounding', 'Navigation or Maneuvering Incident')\n",
    "df['Acc_Type'] = df['Acc_Type'].replace('Stranding.grounding', 'Navigation or Maneuvering Incident')\n",
    "df['Acc_Type'] = df['Acc_Type'].replace('stranding/grounding', 'Navigation or Maneuvering Incident')\n",
    "df['Acc_Type'] = df['Acc_Type'].replace('Stranding/grounding', 'Navigation or Maneuvering Incident')\n",
    "df['Acc_Type'] = df['Acc_Type'].replace('Tilt / crash', 'Navigation or Maneuvering Incident')\n",
    "\n",
    "# Fire or Explosion\n",
    "df['Acc_Type'] = df['Acc_Type'].replace('Fire', 'Fire or Explosion')\n",
    "df['Acc_Type'] = df['Acc_Type'].replace('Fire . explosion', 'Fire or Explosion')\n",
    "df['Acc_Type'] = df['Acc_Type'].replace('Fire/Explosion', 'Fire or Explosion')\n",
    "\n",
    "# Life-saving Equipment Incident\n",
    "df['Acc_Type'] = df['Acc_Type'].replace('Accidents with life-saving appliances', 'Life-saving Equipment Incident')\n",
    "df['Acc_Type'] = df['Acc_Type'].replace('Related to the use of rescue equipment', 'Life-saving Equipment Incident')\n",
    "\n",
    "# Other\n",
    "df['Acc_Type'] = df['Acc_Type'].replace('n.i.', 'Other')\n",
    "df['Acc_Type'] = df['Acc_Type'].replace('other', 'Other')\n",
    "df['Acc_Type'] = df['Acc_Type'].replace(\"other (unsealing the vessel's hull)\", 'Other')\n",
    "df['Acc_Type'] = df['Acc_Type'].replace('Other reason', 'Other')\n",
    "df['Acc_Type'] = df['Acc_Type'].replace('Other type', 'Other')\n",
    "df['Acc_Type'] = df['Acc_Type'].replace('Physical damage', 'Other')\n",
    "df['Acc_Type'] = df['Acc_Type'].replace('Sunk', 'Other')\n",
    "df['Acc_Type'] = df['Acc_Type'].replace('v.serious accident', 'Other')\n",
    "df['Acc_Type'] = df['Acc_Type'].fillna('Other')"
   ]
  },
  {
   "cell_type": "markdown",
   "id": "ba22486e",
   "metadata": {},
   "source": [
    "### Enrichissement des données\n",
    "\n",
    "La colonne `Location` n'étant pas toujours renseignée, nous allons la compléter en utilisant deux autres datassets :\n",
    "- World Port Index – Port Data\n",
    "- Natural Earth\n",
    "Ces deux datasets contiennent des informations sur les ports et les côtes du monde entier, ce qui nous permettra par croisement de données de compléter les informations manquantes dans notre dataset."
   ]
  },
  {
   "cell_type": "code",
   "execution_count": null,
   "id": "03d719be",
   "metadata": {},
   "outputs": [],
   "source": [
    "# Conversion du DataFrame en GeoDataFrame avec CRS standard\n",
    "df.to_crs(\"EPSG:4326\", inplace=True)\n",
    "gdf = gpd.GeoDataFrame(df, geometry=\"geometry\", crs=\"EPSG:4326\")\n",
    "\n",
    "# Chargement des shapefiles\n",
    "lands = gpd.read_file(\"../data/extracted/Shipping_Accidents/lands.shp\")\n",
    "ports = gpd.read_file(\"../data/extracted/Shipping_Accidents/ports.shp\")\n",
    "\n",
    "# Forcer le CRS si non défini\n",
    "for layer in [lands, ports]:\n",
    "    if layer.crs is None:\n",
    "        layer.set_crs(\"EPSG:4326\", inplace=True)\n",
    "\n",
    "# Reprojection en projection métrique (pour calculs de distances)\n",
    "gdf_proj = gdf.to_crs(\"EPSG:3857\")\n",
    "ports_proj = ports.to_crs(\"EPSG:3857\")\n",
    "land_proj = lands.to_crs(\"EPSG:3857\")\n",
    "\n",
    "# Création des buffers\n",
    "buffer_distances = {\n",
    "    \"port\": 3000,        # 3 km\n",
    "    \"approach\": 10000,   # 10 km\n",
    "    \"coast\": 20000       # 20 km\n",
    "}\n",
    "\n",
    "ports_buffer = gpd.GeoDataFrame(geometry=ports_proj.buffer(buffer_distances[\"port\"]), crs=ports_proj.crs)\n",
    "ports_approach_buffer = gpd.GeoDataFrame(geometry=ports_proj.buffer(buffer_distances[\"approach\"]), crs=ports_proj.crs)\n",
    "coast_buffer = gpd.GeoDataFrame(geometry=land_proj.buffer(buffer_distances[\"coast\"]), crs=land_proj.crs)\n",
    "\n",
    "\n",
    "## Attribution des zones géographiques par jointures spatiales\n",
    "\n",
    "# a) Zone portuaire\n",
    "join_port = gdf_proj.sjoin(ports_buffer, how=\"left\", predicate=\"intersects\")\n",
    "is_port = pd.Series(False, index=gdf_proj.index)  # Série de False par défaut\n",
    "is_port.loc[join_port.index] = join_port[\"index_right\"].notnull()\n",
    "gdf_proj[\"is_port\"] = is_port\n",
    "\n",
    "# b) Zone d’approche portuaire (hors port)\n",
    "join_approach = gdf_proj[~gdf_proj[\"is_port\"]].sjoin(ports_approach_buffer, how=\"left\", predicate=\"intersects\")\n",
    "is_approach = pd.Series(False, index=gdf_proj.index)\n",
    "is_approach.loc[join_approach.index] = join_approach[\"index_right\"].notnull()\n",
    "gdf_proj[\"is_port_approach\"] = is_approach\n",
    "\n",
    "# c) Zone côtière (hors port et approche)\n",
    "mask = (~gdf_proj[\"is_port\"]) & (~gdf_proj[\"is_port_approach\"].fillna(False))\n",
    "join_coast = gdf_proj[mask].sjoin(coast_buffer, how=\"left\", predicate=\"intersects\")\n",
    "is_coastal = pd.Series(False, index=gdf_proj.index)\n",
    "is_coastal.loc[join_coast.index] = join_coast[\"index_right\"].notnull()\n",
    "gdf_proj[\"is_coastal\"] = is_coastal\n",
    "\n",
    "# d) Classification finale de l'emplacement\n",
    "def classify_location(row):\n",
    "    if row[\"is_port\"]:\n",
    "        return \"Port\"\n",
    "    elif row[\"is_port_approach\"]:\n",
    "        return \"Port approach\"\n",
    "    elif row[\"is_coastal\"]:\n",
    "        return \"Sea\"\n",
    "    else:\n",
    "        return \"Open sea\"\n",
    "\n",
    "gdf_proj[\"Location\"] = gdf_proj.apply(classify_location, axis=1)\n",
    "\n",
    "\n",
    "## Reprojection finale en WGS84 + mise à jour du DataFrame d’origine\n",
    "\n",
    "df[\"Location\"] = gdf_proj.to_crs(\"EPSG:4326\")[\"Location\"].values"
   ]
  },
  {
   "cell_type": "markdown",
   "id": "612946fe",
   "metadata": {},
   "source": [
    "## Export du dataset préparé pour le dashboard"
   ]
  },
  {
   "cell_type": "code",
   "execution_count": null,
   "id": "07f511a6",
   "metadata": {},
   "outputs": [],
   "source": [
    "df.to_csv(\"../data/cleaned/shipping_accidents_cleaned.csv\", index=False)\n",
    "print(\"Fichier enregistré : /data/cleaned/shipping_accidents_cleaned.csv\")"
   ]
  }
 ],
 "metadata": {
  "kernelspec": {
   "display_name": "Python 3",
   "language": "python",
   "name": "python3"
  },
  "language_info": {
   "codemirror_mode": {
    "name": "ipython",
    "version": 3
   },
   "file_extension": ".py",
   "mimetype": "text/x-python",
   "name": "python",
   "nbconvert_exporter": "python",
   "pygments_lexer": "ipython3",
   "version": "3.13.5"
  }
 },
 "nbformat": 4,
 "nbformat_minor": 5
}
