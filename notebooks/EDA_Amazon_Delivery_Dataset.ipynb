{
 "cells": [
  {
   "cell_type": "markdown",
   "id": "9bf45e9b",
   "metadata": {},
   "source": [
    "# Contexte : Analyse du dataset Amazon_Delivery_Dataset pour le pipeline de résilience logistique."
   ]
  },
  {
   "cell_type": "markdown",
   "id": "283123b3",
   "metadata": {},
   "source": [
    "| Variable         | Description courte                                        | Type          | Exemples                  |\n",
    "|------------------|----------------------------------------------------------|---------------|---------------------------|\n",
    "| Order_ID         | Identifiant unique de la livraison                       | object        | 'ialx566343618'           |\n",
    "| Agent_Age        | Âge du livreur                                           | int64         | 37, 34                    |\n",
    "| Agent_Rating     | Note du livreur                                          | float64       | 4.9, 4.5                  |\n",
    "| Store_Latitude   | Latitude du point de départ                              | float64       | 22.745049, 12.913041      |\n",
    "| Store_Longitude  | Longitude du point de départ                             | float64       | 75.892471, 77.683237      |\n",
    "| Drop_Latitude    | Latitude du point d'arrivée                              | float64       | 22.765049, 13.043041      |\n",
    "| Drop_Longitude   | Longitude du point d'arrivée                             | float64       | 75.912471, 77.813237      |\n",
    "| Order_Date       | Date de la commande                                      | object (date) | 2022-03-19                |\n",
    "| Order_Time       | Heure de la commande                                     | object (heure)| 11:30:00                  |\n",
    "| Pickup_Time      | Heure de prise en charge                                 | object (heure)| 11:45:00                  |\n",
    "| Weather          | Conditions météo                                         | object        | Sunny, Stormy, Fog, etc.  |\n",
    "| Traffic          | Conditions de circulation                                | object        | High, Jam, Low, etc.      |\n",
    "| Vehicle          | Type de véhicule utilisé                                 | object        | motorcycle, scooter       |\n",
    "| Area             | Type de zone (urbaine, métropolitaine, etc.)             | object        | Urban, Metropolitian      |\n",
    "| Delivery_Time    | Temps de livraison en minutes                            | int64         | 120, 165                  |\n",
    "| Category         | Catégorie de la commande                                 | object        | Clothing, Electronics     |"
   ]
  },
  {
   "cell_type": "code",
   "execution_count": null,
   "id": "addcb5ee",
   "metadata": {},
   "outputs": [],
   "source": [
    "import matplotlib.pyplot as plt\n",
    "import seaborn as sns\n",
    "import pandas as pd\n",
    "import numpy as np\n",
    "\n",
    "# Chemin du fichier (toujours utiliser la source extraite, jamais modifier ici)\n",
    "csv_path = '../data/extracted/Amazon_Delivery_Dataset/amazon_delivery.csv'"
   ]
  },
  {
   "cell_type": "code",
   "execution_count": null,
   "id": "c17661aa",
   "metadata": {},
   "outputs": [],
   "source": [
    "# Chargement du DataFrame\n",
    "df = pd.read_csv(csv_path)\n",
    "\n",
    "# Aperçu de la structure\n",
    "print(\"Shape (lignes, colonnes) :\", df.shape)\n",
    "print(\"\\nColonnes :\", df.columns.tolist())\n",
    "display(df.head(3))"
   ]
  },
  {
   "cell_type": "code",
   "execution_count": null,
   "id": "e482b22f",
   "metadata": {},
   "outputs": [],
   "source": [
    "# Vérification des types de données et des valeurs manquantes\n",
    "\n",
    "# Afficher les types de chaque colonne\n",
    "print(\"Types de données :\")\n",
    "print(df.dtypes)\n",
    "\n",
    "print(\"\\nNombre de valeurs manquantes par colonne :\")\n",
    "print(df.isnull().sum())\n",
    "\n",
    "# Aperçu des stats globales (numériques/catégorielles)\n",
    "print(\"\\nRésumé statistique rapide :\")\n",
    "display(df.describe(include='all').T)"
   ]
  },
  {
   "cell_type": "code",
   "execution_count": null,
   "id": "6e210c9a",
   "metadata": {},
   "outputs": [],
   "source": [
    "# Conversion des colonnes de date et d'heure\n",
    "\n",
    "# Conversion de Order_Date en datetime\n",
    "df['Order_Date'] = pd.to_datetime(df['Order_Date'], format='%Y-%m-%d', errors='coerce')\n",
    "\n",
    "# Conversion de Order_Time et Pickup_Time en format heure (datetime.time)\n",
    "df['Order_Time'] = pd.to_datetime(df['Order_Time'], format='%H:%M:%S', errors='coerce').dt.time\n",
    "df['Pickup_Time'] = pd.to_datetime(df['Pickup_Time'], format='%H:%M:%S', errors='coerce').dt.time\n",
    "\n",
    "# Vérification rapide\n",
    "print(df[['Order_Date', 'Order_Time', 'Pickup_Time']].head(5))\n",
    "print(\"\\nTypes après conversion :\")\n",
    "print(df[['Order_Date', 'Order_Time', 'Pickup_Time']].dtypes)\n"
   ]
  },
  {
   "cell_type": "code",
   "execution_count": null,
   "id": "af8a1892",
   "metadata": {},
   "outputs": [],
   "source": [
    "# 🧹 Traitement des valeurs manquantes\n",
    "\n",
    "# 1. Agent_Rating (remplir les valeurs manquantes par la moyenne)\n",
    "mean_rating = df['Agent_Rating'].mean()\n",
    "df['Agent_Rating'] = df['Agent_Rating'].fillna(mean_rating)\n",
    "\n",
    "# 2. Weather (remplir les valeurs manquantes par la modalité la plus fréquente)\n",
    "mode_weather = df['Weather'].mode()[0]\n",
    "df['Weather'] = df['Weather'].fillna(mode_weather)\n",
    "\n",
    "# Vérification\n",
    "print(\"Valeurs manquantes après traitement :\")\n",
    "print(df[['Agent_Rating', 'Weather']].isnull().sum())"
   ]
  },
  {
   "cell_type": "code",
   "execution_count": null,
   "id": "e159c7a9",
   "metadata": {},
   "outputs": [],
   "source": [
    "# Variables numériques principales\n",
    "num_vars = ['Agent_Age', 'Agent_Rating', 'Delivery_Time']\n",
    "\n",
    "for var in num_vars:\n",
    "    plt.figure(figsize=(8, 4))\n",
    "    sns.histplot(df[var], kde=True)\n",
    "    plt.title(f'Distribution de {var}')\n",
    "    plt.xlabel(var)\n",
    "    plt.ylabel(\"Effectif\")\n",
    "    plt.show()\n",
    "\n",
    "# Variables catégorielles principales\n",
    "cat_vars = ['Weather', 'Traffic', 'Vehicle', 'Area', 'Category']\n",
    "\n",
    "for var in cat_vars:\n",
    "    plt.figure(figsize=(10, 4))\n",
    "    sns.countplot(data=df, x=var, order=df[var].value_counts().index)\n",
    "    plt.title(f'Distribution de {var}')\n",
    "    plt.xlabel(var)\n",
    "    plt.ylabel(\"Effectif\")\n",
    "    plt.xticks(rotation=45)\n",
    "    plt.show()\n"
   ]
  },
  {
   "cell_type": "code",
   "execution_count": null,
   "id": "a93ffc69",
   "metadata": {},
   "outputs": [],
   "source": [
    "# Boxplots croisés pour explorer l’impact des facteurs de risque sur les délais de livraison\n",
    "plt.figure(figsize=(10, 4))\n",
    "sns.boxplot(data=df, x='Weather', y='Delivery_Time')\n",
    "plt.title('Delivery_Time selon la Weather')\n",
    "plt.xticks(rotation=45)\n",
    "plt.show()\n",
    "\n",
    "plt.figure(figsize=(10, 4))\n",
    "sns.boxplot(data=df, x='Traffic', y='Delivery_Time')\n",
    "plt.title('Delivery_Time selon Traffic')\n",
    "plt.xticks(rotation=45)\n",
    "plt.show()\n",
    "\n",
    "plt.figure(figsize=(10, 4))\n",
    "sns.boxplot(data=df, x='Area', y='Delivery_Time')\n",
    "plt.title('Delivery_Time selon Area')\n",
    "plt.xticks(rotation=45)\n",
    "plt.show()"
   ]
  },
  {
   "cell_type": "code",
   "execution_count": null,
   "id": "c843b52b",
   "metadata": {},
   "outputs": [],
   "source": [
    "def recap_delays(df, seuils=[60,120,180,240]):\n",
    "    nb_total = len(df)\n",
    "    summary = []\n",
    "    for seuil in seuils:\n",
    "        nb = (df['Delivery_Time'] > seuil).sum()\n",
    "        summary.append({'Seuil (min)': seuil, 'Nb livraisons': nb, 'Taux (%)': 100*nb/nb_total})\n",
    "    return pd.DataFrame(summary)\n",
    "\n",
    "display(recap_delays(df))"
   ]
  },
  {
   "cell_type": "code",
   "execution_count": null,
   "id": "5bfdd610",
   "metadata": {},
   "outputs": [],
   "source": [
    "# 1. Créer une variable \"retard\" (=1 si délai > 180 min)\n",
    "seuil_risk = 120  # À adapter \n",
    "df['delivery_risk'] = (df['Delivery_Time'] > seuil_risk).astype(int)\n",
    "\n",
    "# 2. Calculer le taux de \"risque\" par contexte\n",
    "def risk_rate_by(col):\n",
    "    summary = df.groupby(col)['delivery_risk'].mean().sort_values(ascending=False)\n",
    "    print(f\"\\nTaux de livraisons à risque par {col} (>%d min):\" % seuil_risk)\n",
    "    print(summary)\n",
    "    return summary\n",
    "\n",
    "risk_rate_by('Weather')\n",
    "risk_rate_by('Traffic')\n",
    "risk_rate_by('Area')\n",
    "risk_rate_by('Vehicle')"
   ]
  },
  {
   "cell_type": "code",
   "execution_count": null,
   "id": "d979091b",
   "metadata": {},
   "outputs": [],
   "source": [
    "# 1. On retire tous les espaces superflus\n",
    "df['Traffic'] = df['Traffic'].str.strip()\n",
    "\n",
    "# 2. On remplace 'NaN', 'nan', '' par np.nan\n",
    "df['Traffic'] = df['Traffic'].replace(['NaN', 'nan', ''], np.nan)\n",
    "\n",
    "# 3. On drop les vraies valeurs manquantes\n",
    "df_clean = df.dropna(subset=['Traffic']).copy()\n",
    "\n",
    "# 4. On vérifie les valeurs uniques restantes\n",
    "traffic_order = ['Low', 'Medium', 'High', 'Jam']\n",
    "\n",
    "# On cast la colonne Traffic en Categorical avec l'ordre métier\n",
    "df_clean['Traffic'] = pd.Categorical(df_clean['Traffic'], categories=traffic_order, ordered=True)"
   ]
  },
  {
   "cell_type": "code",
   "execution_count": null,
   "id": "4a89c85b",
   "metadata": {},
   "outputs": [],
   "source": [
    "cross = df_clean.pivot_table(\n",
    "    index='Weather',\n",
    "    columns='Traffic',\n",
    "    values='delivery_risk',\n",
    "    aggfunc='mean'\n",
    ")\n",
    "# On force l'ordre des colonnes pour la heatmap\n",
    "cross = cross[traffic_order]  \n",
    "\n",
    "display(cross)"
   ]
  },
  {
   "cell_type": "code",
   "execution_count": null,
   "id": "9a40df17",
   "metadata": {},
   "outputs": [],
   "source": [
    "# Heatmap des risques croisés Weather x Traffic\n",
    "risk_crosstab = df_clean.pivot_table(index='Weather', columns='Traffic', values='delivery_risk', aggfunc='mean')\n",
    "plt.figure(figsize=(10,6))\n",
    "sns.heatmap(risk_crosstab, annot=True, fmt='.2f', cmap='Reds')\n",
    "plt.title(\"Taux de livraisons à risque (>120min) selon Weather x Traffic\")\n",
    "plt.show()\n"
   ]
  },
  {
   "cell_type": "code",
   "execution_count": null,
   "id": "a12b4b3b",
   "metadata": {},
   "outputs": [],
   "source": [
    "# Flatten la matrice pour lister les contextes triés par risque décroissant\n",
    "top_risks = cross.stack().sort_values(ascending=False)\n",
    "print(\"TOP contextes à risque (Weather/Traffic) :\\n\", top_risks.head(5))\n",
    "\n",
    "top_resilience = cross.stack().sort_values()\n",
    "print(\"\\nTOP contextes les plus résilients :\\n\", top_resilience.head(5))"
   ]
  },
  {
   "cell_type": "code",
   "execution_count": null,
   "id": "2eb20a7b",
   "metadata": {},
   "outputs": [],
   "source": [
    "# Score de risque (taux de retard > 120 min) par zone\n",
    "area_risk_score = df.groupby('Area')['delivery_risk'].mean().sort_values(ascending=False)\n",
    "print(\"Score de risque global par zone (Area) :\")\n",
    "print(area_risk_score)"
   ]
  },
  {
   "cell_type": "code",
   "execution_count": null,
   "id": "100fc5c7",
   "metadata": {},
   "outputs": [],
   "source": [
    "area_resilience_score = 1 - area_risk_score\n",
    "\n",
    "\n",
    "print(\"Score de résilience par zone (Area) :\")\n",
    "print(area_resilience_score)"
   ]
  },
  {
   "cell_type": "code",
   "execution_count": null,
   "id": "486ed00f",
   "metadata": {},
   "outputs": [],
   "source": [
    "# Ajout du score weather_traffic dans df_clean \n",
    "def lookup_weather_traffic_risk(row):\n",
    "    try:\n",
    "        return cross.loc[row['Weather'], row['Traffic']]\n",
    "    except KeyError:\n",
    "        return np.nan\n",
    "\n",
    "df_clean['weather_traffic_risk_score'] = df_clean.apply(lookup_weather_traffic_risk, axis=1)\n",
    "\n",
    "# Ajout du score de risque par zone dans df_clean (pour tout exporter ensemble) --\n",
    "df_clean['area_risk_score'] = df_clean['Area'].map(area_risk_score)\n",
    "df_clean['area_resilience_score'] = df_clean['Area'].map(area_resilience_score)\n",
    "\n",
    "# Export du DataFrame enrichi\n",
    "df_clean.to_csv('../data/cleaned/amazon_delivery_cleaned.csv', index=False)\n",
    "print(\"Export terminé dans /data/cleaned/amazon_delivery_cleaned.csv\")"
   ]
  },
  {
   "cell_type": "code",
   "execution_count": null,
   "id": "a1d13403",
   "metadata": {},
   "outputs": [],
   "source": [
    "print(df_clean[['Weather', 'Traffic', 'weather_traffic_risk_score']].head(10))"
   ]
  },
  {
   "cell_type": "code",
   "execution_count": null,
   "id": "88047266",
   "metadata": {},
   "outputs": [],
   "source": [
    "# Export du DataFrame enrichi --\n",
    "df_clean.to_csv('../data/cleaned/amazon_delivery_cleaned.csv', index=False)\n",
    "print(\"Export terminé dans /data/cleaned/amazon_delivery_cleaned.csv\")"
   ]
  },
  {
   "cell_type": "markdown",
   "id": "27bcb909",
   "metadata": {},
   "source": [
    "## Synthèse : Facteurs de risques et résilience logistique sur le dernier kilomètre\n",
    "\n",
    "- Les contextes “Cloudy/Jam” et “Fog/Jam” présentent un taux de retard >120 min de près de 50 %.\n",
    "- Les situations “Sunny/Low” ou “Windy/Low” sont les plus résilientes (<5 % de retard).\n",
    "- Le trafic et la météo sont les principaux déterminants du risque, bien plus que la catégorie de produit ou l’âge du livreur.\n",
    "\n",
    "- Les situations combinant météo défavorable et trafic intense (“Cloudy/Jam”, “Fog/Jam”) affichent un taux de livraisons en retard (>120 min) supérieur à 50 %.\n",
    "\n",
    "- À l’inverse, les contextes “Sunny/Low” ou “Windy/Low” sont les plus résilients, avec moins de 5 % de retards importants.\n",
    "\n",
    "- Le trafic et la météo sont les deux principaux déterminants du risque sur le dernier kilomètre, bien avant d’autres facteurs comme la catégorie de commande, l’âge du livreur ou le type de véhicule.\n",
    "\n",
    "- Chaque livraison est désormais enrichie d’un score de risque contextuel (calculé selon la combinaison météo/traffic observée), ce qui permet de visualiser dynamiquement les “points chauds” dans un dashboard,"
   ]
  }
 ],
 "metadata": {
  "kernelspec": {
   "display_name": ".venv",
   "language": "python",
   "name": "python3"
  },
  "language_info": {
   "codemirror_mode": {
    "name": "ipython",
    "version": 3
   },
   "file_extension": ".py",
   "mimetype": "text/x-python",
   "name": "python",
   "nbconvert_exporter": "python",
   "pygments_lexer": "ipython3",
   "version": "3.12.6"
  }
 },
 "nbformat": 4,
 "nbformat_minor": 5
}
